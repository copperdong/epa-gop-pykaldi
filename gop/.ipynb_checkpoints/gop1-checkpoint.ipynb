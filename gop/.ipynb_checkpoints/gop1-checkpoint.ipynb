{
 "cells": [
  {
   "cell_type": "code",
   "execution_count": 1,
   "metadata": {},
   "outputs": [],
   "source": [
    "import pandas as pd\n",
    "from gop import *"
   ]
  },
  {
   "cell_type": "code",
   "execution_count": 2,
   "metadata": {},
   "outputs": [
    {
     "name": "stdout",
     "output_type": "stream",
     "text": [
      "1.1.3\n"
     ]
    }
   ],
   "source": [
    "print(pd.__version__)"
   ]
  },
  {
   "cell_type": "code",
   "execution_count": 3,
   "metadata": {},
   "outputs": [
    {
     "data": {
      "text/plain": [
       "array(['trans_manual', 'trans_zero', 'trans_reff_complete', 'labels',\n",
       "       'trans_auto'], dtype=object)"
      ]
     },
     "execution_count": 3,
     "metadata": {},
     "output_type": "execute_result"
    }
   ],
   "source": [
    "df_trans = pd.read_pickle('trans.pickle')\n",
    "df_trans"
   ]
  },
  {
   "cell_type": "code",
   "execution_count": 10,
   "metadata": {},
   "outputs": [
    {
     "data": {
      "text/html": [
       "<div>\n",
       "<style scoped>\n",
       "    .dataframe tbody tr th:only-of-type {\n",
       "        vertical-align: middle;\n",
       "    }\n",
       "\n",
       "    .dataframe tbody tr th {\n",
       "        vertical-align: top;\n",
       "    }\n",
       "\n",
       "    .dataframe thead th {\n",
       "        text-align: right;\n",
       "    }\n",
       "</style>\n",
       "<table border=\"1\" class=\"dataframe\">\n",
       "  <thead>\n",
       "    <tr style=\"text-align: right;\">\n",
       "      <th></th>\n",
       "      <th>phone_name</th>\n",
       "      <th>transition_state</th>\n",
       "      <th>hmm_state</th>\n",
       "      <th>pdf</th>\n",
       "      <th>phone_pure</th>\n",
       "      <th>phone_pure_name</th>\n",
       "    </tr>\n",
       "    <tr>\n",
       "      <th>phone</th>\n",
       "      <th></th>\n",
       "      <th></th>\n",
       "      <th></th>\n",
       "      <th></th>\n",
       "      <th></th>\n",
       "      <th></th>\n",
       "    </tr>\n",
       "  </thead>\n",
       "  <tbody>\n",
       "    <tr>\n",
       "      <th>15</th>\n",
       "      <td>AA0_B</td>\n",
       "      <td>263</td>\n",
       "      <td>0</td>\n",
       "      <td>2</td>\n",
       "      <td>3</td>\n",
       "      <td>AA</td>\n",
       "    </tr>\n",
       "    <tr>\n",
       "      <th>15</th>\n",
       "      <td>AA0_B</td>\n",
       "      <td>264</td>\n",
       "      <td>0</td>\n",
       "      <td>225</td>\n",
       "      <td>3</td>\n",
       "      <td>AA</td>\n",
       "    </tr>\n",
       "    <tr>\n",
       "      <th>15</th>\n",
       "      <td>AA0_B</td>\n",
       "      <td>265</td>\n",
       "      <td>0</td>\n",
       "      <td>225</td>\n",
       "      <td>3</td>\n",
       "      <td>AA</td>\n",
       "    </tr>\n",
       "    <tr>\n",
       "      <th>15</th>\n",
       "      <td>AA0_B</td>\n",
       "      <td>266</td>\n",
       "      <td>0</td>\n",
       "      <td>225</td>\n",
       "      <td>3</td>\n",
       "      <td>AA</td>\n",
       "    </tr>\n",
       "    <tr>\n",
       "      <th>15</th>\n",
       "      <td>AA0_B</td>\n",
       "      <td>267</td>\n",
       "      <td>0</td>\n",
       "      <td>225</td>\n",
       "      <td>3</td>\n",
       "      <td>AA</td>\n",
       "    </tr>\n",
       "    <tr>\n",
       "      <th>...</th>\n",
       "      <td>...</td>\n",
       "      <td>...</td>\n",
       "      <td>...</td>\n",
       "      <td>...</td>\n",
       "      <td>...</td>\n",
       "      <td>...</td>\n",
       "    </tr>\n",
       "    <tr>\n",
       "      <th>342</th>\n",
       "      <td>Z_S</td>\n",
       "      <td>21933</td>\n",
       "      <td>0</td>\n",
       "      <td>5996</td>\n",
       "      <td>40</td>\n",
       "      <td>Z</td>\n",
       "    </tr>\n",
       "    <tr>\n",
       "      <th>342</th>\n",
       "      <td>Z_S</td>\n",
       "      <td>21934</td>\n",
       "      <td>0</td>\n",
       "      <td>5996</td>\n",
       "      <td>40</td>\n",
       "      <td>Z</td>\n",
       "    </tr>\n",
       "    <tr>\n",
       "      <th>342</th>\n",
       "      <td>Z_S</td>\n",
       "      <td>21935</td>\n",
       "      <td>0</td>\n",
       "      <td>5996</td>\n",
       "      <td>40</td>\n",
       "      <td>Z</td>\n",
       "    </tr>\n",
       "    <tr>\n",
       "      <th>342</th>\n",
       "      <td>Z_S</td>\n",
       "      <td>21936</td>\n",
       "      <td>0</td>\n",
       "      <td>5996</td>\n",
       "      <td>40</td>\n",
       "      <td>Z</td>\n",
       "    </tr>\n",
       "    <tr>\n",
       "      <th>342</th>\n",
       "      <td>Z_S</td>\n",
       "      <td>21937</td>\n",
       "      <td>0</td>\n",
       "      <td>5996</td>\n",
       "      <td>40</td>\n",
       "      <td>Z</td>\n",
       "    </tr>\n",
       "  </tbody>\n",
       "</table>\n",
       "<p>21995 rows × 6 columns</p>\n",
       "</div>"
      ],
      "text/plain": [
       "      phone_name transition_state hmm_state   pdf phone_pure phone_pure_name\n",
       "phone                                                                       \n",
       "15         AA0_B              263         0     2          3              AA\n",
       "15         AA0_B              264         0   225          3              AA\n",
       "15         AA0_B              265         0   225          3              AA\n",
       "15         AA0_B              266         0   225          3              AA\n",
       "15         AA0_B              267         0   225          3              AA\n",
       "...          ...              ...       ...   ...        ...             ...\n",
       "342          Z_S            21933         0  5996         40               Z\n",
       "342          Z_S            21934         0  5996         40               Z\n",
       "342          Z_S            21935         0  5996         40               Z\n",
       "342          Z_S            21936         0  5996         40               Z\n",
       "342          Z_S            21937         0  5996         40               Z\n",
       "\n",
       "[21995 rows x 6 columns]"
      ]
     },
     "execution_count": 10,
     "metadata": {},
     "output_type": "execute_result"
    }
   ],
   "source": [
    "df_phones_pure = pd.read_pickle('phones_pure_libri.pickle')\n",
    "df_phones_pure"
   ]
  },
  {
   "cell_type": "code",
   "execution_count": 5,
   "metadata": {},
   "outputs": [
    {
     "data": {
      "text/plain": [
       "array(['phones', 'phones_names', 'align_transitions', 'target',\n",
       "       'target_base'], dtype=object)"
      ]
     },
     "execution_count": 5,
     "metadata": {},
     "output_type": "execute_result"
    }
   ],
   "source": [
    "df_target = pd.read_pickle('target_epa.pickle')\n",
    "df_target"
   ]
  },
  {
   "cell_type": "code",
   "execution_count": 6,
   "metadata": {},
   "outputs": [
    {
     "ename": "UnpicklingError",
     "evalue": "invalid load key, '\\x00'.",
     "output_type": "error",
     "traceback": [
      "\u001b[0;31m---------------------------------------------------------------------------\u001b[0m",
      "\u001b[0;31mUnpicklingError\u001b[0m                           Traceback (most recent call last)",
      "\u001b[0;32m<ipython-input-6-30b68b25cdb6>\u001b[0m in \u001b[0;36m<module>\u001b[0;34m\u001b[0m\n\u001b[0;32m----> 1\u001b[0;31m \u001b[0mdf_labels\u001b[0m \u001b[0;34m=\u001b[0m \u001b[0mpd\u001b[0m\u001b[0;34m.\u001b[0m\u001b[0mread_pickle\u001b[0m\u001b[0;34m(\u001b[0m\u001b[0;34m'labels_epa.pickle'\u001b[0m\u001b[0;34m)\u001b[0m\u001b[0;34m\u001b[0m\u001b[0;34m\u001b[0m\u001b[0m\n\u001b[0m\u001b[1;32m      2\u001b[0m \u001b[0mdf_labels\u001b[0m\u001b[0;34m\u001b[0m\u001b[0;34m\u001b[0m\u001b[0m\n",
      "\u001b[0;32m~/anaconda3/lib/python3.8/site-packages/pandas/io/pickle.py\u001b[0m in \u001b[0;36mread_pickle\u001b[0;34m(filepath_or_buffer, compression)\u001b[0m\n\u001b[1;32m    180\u001b[0m                 \u001b[0;31m# We want to silence any warnings about, e.g. moved modules.\u001b[0m\u001b[0;34m\u001b[0m\u001b[0;34m\u001b[0m\u001b[0;34m\u001b[0m\u001b[0m\n\u001b[1;32m    181\u001b[0m                 \u001b[0mwarnings\u001b[0m\u001b[0;34m.\u001b[0m\u001b[0msimplefilter\u001b[0m\u001b[0;34m(\u001b[0m\u001b[0;34m\"ignore\"\u001b[0m\u001b[0;34m,\u001b[0m \u001b[0mWarning\u001b[0m\u001b[0;34m)\u001b[0m\u001b[0;34m\u001b[0m\u001b[0;34m\u001b[0m\u001b[0m\n\u001b[0;32m--> 182\u001b[0;31m                 \u001b[0;32mreturn\u001b[0m \u001b[0mpickle\u001b[0m\u001b[0;34m.\u001b[0m\u001b[0mload\u001b[0m\u001b[0;34m(\u001b[0m\u001b[0mf\u001b[0m\u001b[0;34m)\u001b[0m\u001b[0;34m\u001b[0m\u001b[0;34m\u001b[0m\u001b[0m\n\u001b[0m\u001b[1;32m    183\u001b[0m         \u001b[0;32mexcept\u001b[0m \u001b[0mexcs_to_catch\u001b[0m\u001b[0;34m:\u001b[0m\u001b[0;34m\u001b[0m\u001b[0;34m\u001b[0m\u001b[0m\n\u001b[1;32m    184\u001b[0m             \u001b[0;31m# e.g.\u001b[0m\u001b[0;34m\u001b[0m\u001b[0;34m\u001b[0m\u001b[0;34m\u001b[0m\u001b[0m\n",
      "\u001b[0;31mUnpicklingError\u001b[0m: invalid load key, '\\x00'."
     ]
    }
   ],
   "source": [
    "df_labels = pd.read_pickle('labels_epa.pickle')\n",
    "df_labels"
   ]
  },
  {
   "cell_type": "code",
   "execution_count": 7,
   "metadata": {},
   "outputs": [
    {
     "data": {
      "text/plain": [
       "[[array([1., 0., 0., ..., 0., 0., 0.]),\n",
       "  array([0., 1., 0., ..., 0., 0., 0.]),\n",
       "  array([0., 0., 1., ..., 0., 0., 0.]),\n",
       "  array([0., 0., 0., ..., 0., 0., 0.]),\n",
       "  array([0., 0., 0., ..., 0., 0., 0.]),\n",
       "  array([0., 0., 0., ..., 0., 0., 0.]),\n",
       "  array([0., 0., 0., ..., 0., 0., 0.]),\n",
       "  array([0., 0., 0., ..., 0., 0., 0.]),\n",
       "  array([0., 0., 0., ..., 0., 0., 0.]),\n",
       "  array([0., 0., 0., ..., 0., 0., 0.]),\n",
       "  array([0., 0., 0., ..., 0., 0., 0.]),\n",
       "  array([0., 0., 0., ..., 0., 0., 0.]),\n",
       "  array([0., 0., 0., ..., 0., 0., 0.]),\n",
       "  array([0., 0., 0., ..., 0., 0., 0.]),\n",
       "  array([0., 0., 0., ..., 0., 0., 0.]),\n",
       "  array([0., 0., 0., ..., 0., 0., 0.]),\n",
       "  array([0., 0., 0., ..., 0., 0., 0.]),\n",
       "  array([0., 0., 0., ..., 0., 0., 0.]),\n",
       "  array([0., 0., 0., ..., 0., 0., 0.]),\n",
       "  array([0., 0., 0., ..., 0., 0., 0.]),\n",
       "  array([0., 0., 0., ..., 0., 0., 0.]),\n",
       "  array([0., 0., 0., ..., 0., 0., 0.]),\n",
       "  array([0., 0., 0., ..., 0., 0., 0.]),\n",
       "  array([0., 0., 0., ..., 0., 0., 0.]),\n",
       "  array([0., 0., 0., ..., 0., 0., 0.]),\n",
       "  array([0., 0., 0., ..., 0., 0., 0.]),\n",
       "  array([0., 0., 0., ..., 0., 0., 0.]),\n",
       "  array([0., 0., 0., ..., 0., 0., 0.]),\n",
       "  array([0., 0., 0., ..., 0., 1., 1.]),\n",
       "  array([0., 0., 0., ..., 0., 0., 0.]),\n",
       "  array([0., 0., 0., ..., 0., 0., 0.]),\n",
       "  array([0., 0., 0., ..., 0., 0., 0.]),\n",
       "  array([0., 0., 0., ..., 0., 0., 0.]),\n",
       "  array([0., 0., 0., ..., 0., 0., 0.]),\n",
       "  array([0., 0., 0., ..., 0., 0., 0.]),\n",
       "  array([0., 0., 0., ..., 0., 0., 0.]),\n",
       "  array([0., 0., 0., ..., 0., 0., 0.]),\n",
       "  array([0., 0., 0., ..., 1., 0., 0.]),\n",
       "  array([0., 0., 0., ..., 0., 0., 0.]),\n",
       "  array([0., 0., 0., ..., 0., 0., 0.]),\n",
       "  array([0., 0., 0., ..., 0., 0., 0.])]]"
      ]
     },
     "execution_count": 7,
     "metadata": {},
     "output_type": "execute_result"
    }
   ],
   "source": [
    "matrix_gop_robust(df_phones_pure, 6024,1)"
   ]
  },
  {
   "cell_type": "code",
   "execution_count": 12,
   "metadata": {},
   "outputs": [
    {
     "data": {
      "text/html": [
       "<div>\n",
       "<style scoped>\n",
       "    .dataframe tbody tr th:only-of-type {\n",
       "        vertical-align: middle;\n",
       "    }\n",
       "\n",
       "    .dataframe tbody tr th {\n",
       "        vertical-align: top;\n",
       "    }\n",
       "\n",
       "    .dataframe thead th {\n",
       "        text-align: right;\n",
       "    }\n",
       "</style>\n",
       "<table border=\"1\" class=\"dataframe\">\n",
       "  <thead>\n",
       "    <tr style=\"text-align: right;\">\n",
       "      <th></th>\n",
       "      <th>p</th>\n",
       "    </tr>\n",
       "  </thead>\n",
       "  <tbody>\n",
       "    <tr>\n",
       "      <th>0</th>\n",
       "      <td>[-0.24202293, -0.46676305, -0.34699762, -0.636...</td>\n",
       "    </tr>\n",
       "    <tr>\n",
       "      <th>1</th>\n",
       "      <td>[1.6305054, 1.1001575, -0.039497297, -0.600130...</td>\n",
       "    </tr>\n",
       "    <tr>\n",
       "      <th>2</th>\n",
       "      <td>[1.5722454, 1.0910091, -0.029213503, -0.560899...</td>\n",
       "    </tr>\n",
       "    <tr>\n",
       "      <th>3</th>\n",
       "      <td>[1.4503384, 1.1577706, -0.04633337, -0.5825586...</td>\n",
       "    </tr>\n",
       "    <tr>\n",
       "      <th>4</th>\n",
       "      <td>[-1.3029096, -0.30762056, -0.15236083, -0.6583...</td>\n",
       "    </tr>\n",
       "    <tr>\n",
       "      <th>...</th>\n",
       "      <td>...</td>\n",
       "    </tr>\n",
       "    <tr>\n",
       "      <th>272</th>\n",
       "      <td>[-3.494504, -0.1571208, -0.27680832, -0.278702...</td>\n",
       "    </tr>\n",
       "    <tr>\n",
       "      <th>273</th>\n",
       "      <td>[-3.435281, -0.14471659, -0.30217755, -0.29842...</td>\n",
       "    </tr>\n",
       "    <tr>\n",
       "      <th>274</th>\n",
       "      <td>[-3.635681, -0.056890786, 0.05583854, 0.243406...</td>\n",
       "    </tr>\n",
       "    <tr>\n",
       "      <th>275</th>\n",
       "      <td>[-3.522615, 0.11021353, 0.1570002, 0.3769728, ...</td>\n",
       "    </tr>\n",
       "    <tr>\n",
       "      <th>276</th>\n",
       "      <td>[-3.3848958, 0.30727673, 0.22565795, 0.4812160...</td>\n",
       "    </tr>\n",
       "  </tbody>\n",
       "</table>\n",
       "<p>277 rows × 1 columns</p>\n",
       "</div>"
      ],
      "text/plain": [
       "                                                     p\n",
       "0    [-0.24202293, -0.46676305, -0.34699762, -0.636...\n",
       "1    [1.6305054, 1.1001575, -0.039497297, -0.600130...\n",
       "2    [1.5722454, 1.0910091, -0.029213503, -0.560899...\n",
       "3    [1.4503384, 1.1577706, -0.04633337, -0.5825586...\n",
       "4    [-1.3029096, -0.30762056, -0.15236083, -0.6583...\n",
       "..                                                 ...\n",
       "272  [-3.494504, -0.1571208, -0.27680832, -0.278702...\n",
       "273  [-3.435281, -0.14471659, -0.30217755, -0.29842...\n",
       "274  [-3.635681, -0.056890786, 0.05583854, 0.243406...\n",
       "275  [-3.522615, 0.11021353, 0.1570002, 0.3769728, ...\n",
       "276  [-3.3848958, 0.30727673, 0.22565795, 0.4812160...\n",
       "\n",
       "[277 rows x 1 columns]"
      ]
     },
     "execution_count": 12,
     "metadata": {},
     "output_type": "execute_result"
    }
   ],
   "source": [
    "df_scores = pd.read_pickle('loglikes.pickle')\n",
    "df_scores = df_scores.apply(np.array, axis=1)\n",
    "df_scores = pd.DataFrame(df_scores)\n",
    "df_scores.rename(columns = {0:'p'}, inplace = True)\n",
    "df_scores"
   ]
  },
  {
   "cell_type": "code",
   "execution_count": 9,
   "metadata": {},
   "outputs": [
    {
     "name": "stdout",
     "output_type": "stream",
     "text": [
      "277\n"
     ]
    },
    {
     "ename": "AttributeError",
     "evalue": "'DataFrame' object has no attribute 'phones'",
     "output_type": "error",
     "traceback": [
      "\u001b[0;31m---------------------------------------------------------------------------\u001b[0m",
      "\u001b[0;31mAttributeError\u001b[0m                            Traceback (most recent call last)",
      "\u001b[0;32m<ipython-input-9-8a2df63da5fd>\u001b[0m in \u001b[0;36m<module>\u001b[0;34m\u001b[0m\n\u001b[0;32m----> 1\u001b[0;31m \u001b[0mgop_robust_with_matrix\u001b[0m\u001b[0;34m(\u001b[0m\u001b[0mdf_scores\u001b[0m\u001b[0;34m,\u001b[0m \u001b[0mdf_phones_pure\u001b[0m\u001b[0;34m,\u001b[0m \u001b[0;36m6024\u001b[0m\u001b[0;34m,\u001b[0m \u001b[0;36m1\u001b[0m\u001b[0;34m,\u001b[0m \u001b[0;34m[\u001b[0m\u001b[0;34m]\u001b[0m\u001b[0;34m,\u001b[0m \u001b[0;34m[\u001b[0m\u001b[0;34m]\u001b[0m\u001b[0;34m)\u001b[0m\u001b[0;34m\u001b[0m\u001b[0;34m\u001b[0m\u001b[0m\n\u001b[0m",
      "\u001b[0;32m~/Desktop/pasantia/epa-gop-pykaldi/gop/gop.py\u001b[0m in \u001b[0;36mgop_robust_with_matrix\u001b[0;34m(df_scores, df_phones_pure, number_senones, batch_size, output_gop_r, output_gop_r_max)\u001b[0m\n\u001b[1;32m     45\u001b[0m \u001b[0;34m\u001b[0m\u001b[0m\n\u001b[1;32m     46\u001b[0m     \u001b[0;32mfor\u001b[0m \u001b[0mj\u001b[0m \u001b[0;32min\u001b[0m \u001b[0mrange\u001b[0m\u001b[0;34m(\u001b[0m\u001b[0;36m0\u001b[0m\u001b[0;34m,\u001b[0m \u001b[0mlen\u001b[0m\u001b[0;34m(\u001b[0m\u001b[0mdf_scores\u001b[0m\u001b[0;34m)\u001b[0m\u001b[0;34m)\u001b[0m\u001b[0;34m:\u001b[0m\u001b[0;34m\u001b[0m\u001b[0;34m\u001b[0m\u001b[0m\n\u001b[0;32m---> 47\u001b[0;31m         \u001b[0mphones\u001b[0m \u001b[0;34m=\u001b[0m \u001b[0mdf_scores\u001b[0m\u001b[0;34m.\u001b[0m\u001b[0mphones\u001b[0m\u001b[0;34m[\u001b[0m\u001b[0mj\u001b[0m\u001b[0;34m]\u001b[0m\u001b[0;34m\u001b[0m\u001b[0;34m\u001b[0m\u001b[0m\n\u001b[0m\u001b[1;32m     48\u001b[0m         \u001b[0mtransitions\u001b[0m \u001b[0;34m=\u001b[0m \u001b[0mdf_scores\u001b[0m\u001b[0;34m.\u001b[0m\u001b[0mtransitions\u001b[0m\u001b[0;34m[\u001b[0m\u001b[0mj\u001b[0m\u001b[0;34m]\u001b[0m\u001b[0;34m\u001b[0m\u001b[0;34m\u001b[0m\u001b[0m\n\u001b[1;32m     49\u001b[0m         \u001b[0mlogid\u001b[0m \u001b[0;34m=\u001b[0m \u001b[0mlogids\u001b[0m\u001b[0;34m[\u001b[0m\u001b[0mj\u001b[0m\u001b[0;34m]\u001b[0m\u001b[0;34m\u001b[0m\u001b[0;34m\u001b[0m\u001b[0m\n",
      "\u001b[0;32m~/anaconda3/lib/python3.8/site-packages/pandas/core/generic.py\u001b[0m in \u001b[0;36m__getattr__\u001b[0;34m(self, name)\u001b[0m\n\u001b[1;32m   5137\u001b[0m             \u001b[0;32mif\u001b[0m \u001b[0mself\u001b[0m\u001b[0;34m.\u001b[0m\u001b[0m_info_axis\u001b[0m\u001b[0;34m.\u001b[0m\u001b[0m_can_hold_identifiers_and_holds_name\u001b[0m\u001b[0;34m(\u001b[0m\u001b[0mname\u001b[0m\u001b[0;34m)\u001b[0m\u001b[0;34m:\u001b[0m\u001b[0;34m\u001b[0m\u001b[0;34m\u001b[0m\u001b[0m\n\u001b[1;32m   5138\u001b[0m                 \u001b[0;32mreturn\u001b[0m \u001b[0mself\u001b[0m\u001b[0;34m[\u001b[0m\u001b[0mname\u001b[0m\u001b[0;34m]\u001b[0m\u001b[0;34m\u001b[0m\u001b[0;34m\u001b[0m\u001b[0m\n\u001b[0;32m-> 5139\u001b[0;31m             \u001b[0;32mreturn\u001b[0m \u001b[0mobject\u001b[0m\u001b[0;34m.\u001b[0m\u001b[0m__getattribute__\u001b[0m\u001b[0;34m(\u001b[0m\u001b[0mself\u001b[0m\u001b[0;34m,\u001b[0m \u001b[0mname\u001b[0m\u001b[0;34m)\u001b[0m\u001b[0;34m\u001b[0m\u001b[0;34m\u001b[0m\u001b[0m\n\u001b[0m\u001b[1;32m   5140\u001b[0m \u001b[0;34m\u001b[0m\u001b[0m\n\u001b[1;32m   5141\u001b[0m     \u001b[0;32mdef\u001b[0m \u001b[0m__setattr__\u001b[0m\u001b[0;34m(\u001b[0m\u001b[0mself\u001b[0m\u001b[0;34m,\u001b[0m \u001b[0mname\u001b[0m\u001b[0;34m:\u001b[0m \u001b[0mstr\u001b[0m\u001b[0;34m,\u001b[0m \u001b[0mvalue\u001b[0m\u001b[0;34m)\u001b[0m \u001b[0;34m->\u001b[0m \u001b[0;32mNone\u001b[0m\u001b[0;34m:\u001b[0m\u001b[0;34m\u001b[0m\u001b[0;34m\u001b[0m\u001b[0m\n",
      "\u001b[0;31mAttributeError\u001b[0m: 'DataFrame' object has no attribute 'phones'"
     ]
    }
   ],
   "source": [
    "gop_robust_with_matrix(df_scores, df_phones_pure, 6024, 1, [], [])"
   ]
  },
  {
   "cell_type": "code",
   "execution_count": null,
   "metadata": {},
   "outputs": [],
   "source": []
  },
  {
   "cell_type": "code",
   "execution_count": null,
   "metadata": {},
   "outputs": [],
   "source": []
  },
  {
   "cell_type": "code",
   "execution_count": null,
   "metadata": {},
   "outputs": [],
   "source": []
  }
 ],
 "metadata": {
  "kernelspec": {
   "display_name": "Python 3",
   "language": "python",
   "name": "python3"
  },
  "language_info": {
   "codemirror_mode": {
    "name": "ipython",
    "version": 3
   },
   "file_extension": ".py",
   "mimetype": "text/x-python",
   "name": "python",
   "nbconvert_exporter": "python",
   "pygments_lexer": "ipython3",
   "version": "3.7.9"
  }
 },
 "nbformat": 4,
 "nbformat_minor": 4
}
