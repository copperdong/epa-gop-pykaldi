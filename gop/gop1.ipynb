{
 "cells": [
  {
   "cell_type": "code",
   "execution_count": 1,
   "metadata": {},
   "outputs": [],
   "source": [
    "import pandas as pd\n",
    "import pickle\n",
    "from gop import *\n",
    "from scipy.special import softmax\n",
    "from kaldiio import ReadHelper"
   ]
  },
  {
   "cell_type": "code",
   "execution_count": 2,
   "metadata": {},
   "outputs": [
    {
     "name": "stdout",
     "output_type": "stream",
     "text": [
      "1.1.5\n"
     ]
    }
   ],
   "source": [
    "print(pd.__version__)"
   ]
  },
  {
   "cell_type": "code",
   "execution_count": 3,
   "metadata": {},
   "outputs": [
    {
     "data": {
      "text/plain": [
       "array(['trans_manual', 'trans_zero', 'trans_reff_complete', 'labels',\n",
       "       'trans_auto'], dtype=object)"
      ]
     },
     "execution_count": 3,
     "metadata": {},
     "output_type": "execute_result"
    }
   ],
   "source": [
    "df_trans = pd.read_pickle('trans.pickle')\n",
    "df_trans"
   ]
  },
  {
   "cell_type": "code",
   "execution_count": 4,
   "metadata": {},
   "outputs": [
    {
     "data": {
      "text/html": [
       "<div>\n",
       "<style scoped>\n",
       "    .dataframe tbody tr th:only-of-type {\n",
       "        vertical-align: middle;\n",
       "    }\n",
       "\n",
       "    .dataframe tbody tr th {\n",
       "        vertical-align: top;\n",
       "    }\n",
       "\n",
       "    .dataframe thead th {\n",
       "        text-align: right;\n",
       "    }\n",
       "</style>\n",
       "<table border=\"1\" class=\"dataframe\">\n",
       "  <thead>\n",
       "    <tr style=\"text-align: right;\">\n",
       "      <th></th>\n",
       "      <th>phone</th>\n",
       "      <th>phone_name</th>\n",
       "      <th>transition_state</th>\n",
       "      <th>hmm_state</th>\n",
       "      <th>pdf</th>\n",
       "      <th>transition_ids</th>\n",
       "      <th>phone_pure</th>\n",
       "      <th>phone_pure_name</th>\n",
       "    </tr>\n",
       "  </thead>\n",
       "  <tbody>\n",
       "    <tr>\n",
       "      <th>0</th>\n",
       "      <td>15</td>\n",
       "      <td>AA0_B</td>\n",
       "      <td>263</td>\n",
       "      <td>0</td>\n",
       "      <td>2</td>\n",
       "      <td>525</td>\n",
       "      <td>3</td>\n",
       "      <td>AA</td>\n",
       "    </tr>\n",
       "    <tr>\n",
       "      <th>1</th>\n",
       "      <td>15</td>\n",
       "      <td>AA0_B</td>\n",
       "      <td>263</td>\n",
       "      <td>0</td>\n",
       "      <td>2</td>\n",
       "      <td>526</td>\n",
       "      <td>3</td>\n",
       "      <td>AA</td>\n",
       "    </tr>\n",
       "    <tr>\n",
       "      <th>2</th>\n",
       "      <td>15</td>\n",
       "      <td>AA0_B</td>\n",
       "      <td>264</td>\n",
       "      <td>0</td>\n",
       "      <td>225</td>\n",
       "      <td>527</td>\n",
       "      <td>3</td>\n",
       "      <td>AA</td>\n",
       "    </tr>\n",
       "    <tr>\n",
       "      <th>3</th>\n",
       "      <td>15</td>\n",
       "      <td>AA0_B</td>\n",
       "      <td>264</td>\n",
       "      <td>0</td>\n",
       "      <td>225</td>\n",
       "      <td>528</td>\n",
       "      <td>3</td>\n",
       "      <td>AA</td>\n",
       "    </tr>\n",
       "    <tr>\n",
       "      <th>4</th>\n",
       "      <td>15</td>\n",
       "      <td>AA0_B</td>\n",
       "      <td>265</td>\n",
       "      <td>0</td>\n",
       "      <td>225</td>\n",
       "      <td>529</td>\n",
       "      <td>3</td>\n",
       "      <td>AA</td>\n",
       "    </tr>\n",
       "    <tr>\n",
       "      <th>...</th>\n",
       "      <td>...</td>\n",
       "      <td>...</td>\n",
       "      <td>...</td>\n",
       "      <td>...</td>\n",
       "      <td>...</td>\n",
       "      <td>...</td>\n",
       "      <td>...</td>\n",
       "      <td>...</td>\n",
       "    </tr>\n",
       "    <tr>\n",
       "      <th>43985</th>\n",
       "      <td>342</td>\n",
       "      <td>Z_S</td>\n",
       "      <td>21935</td>\n",
       "      <td>0</td>\n",
       "      <td>5996</td>\n",
       "      <td>43870</td>\n",
       "      <td>40</td>\n",
       "      <td>Z</td>\n",
       "    </tr>\n",
       "    <tr>\n",
       "      <th>43986</th>\n",
       "      <td>342</td>\n",
       "      <td>Z_S</td>\n",
       "      <td>21936</td>\n",
       "      <td>0</td>\n",
       "      <td>5996</td>\n",
       "      <td>43871</td>\n",
       "      <td>40</td>\n",
       "      <td>Z</td>\n",
       "    </tr>\n",
       "    <tr>\n",
       "      <th>43987</th>\n",
       "      <td>342</td>\n",
       "      <td>Z_S</td>\n",
       "      <td>21936</td>\n",
       "      <td>0</td>\n",
       "      <td>5996</td>\n",
       "      <td>43872</td>\n",
       "      <td>40</td>\n",
       "      <td>Z</td>\n",
       "    </tr>\n",
       "    <tr>\n",
       "      <th>43988</th>\n",
       "      <td>342</td>\n",
       "      <td>Z_S</td>\n",
       "      <td>21937</td>\n",
       "      <td>0</td>\n",
       "      <td>5996</td>\n",
       "      <td>43873</td>\n",
       "      <td>40</td>\n",
       "      <td>Z</td>\n",
       "    </tr>\n",
       "    <tr>\n",
       "      <th>43989</th>\n",
       "      <td>342</td>\n",
       "      <td>Z_S</td>\n",
       "      <td>21937</td>\n",
       "      <td>0</td>\n",
       "      <td>5996</td>\n",
       "      <td>43874</td>\n",
       "      <td>40</td>\n",
       "      <td>Z</td>\n",
       "    </tr>\n",
       "  </tbody>\n",
       "</table>\n",
       "<p>43990 rows × 8 columns</p>\n",
       "</div>"
      ],
      "text/plain": [
       "      phone phone_name transition_state hmm_state   pdf transition_ids  \\\n",
       "0        15      AA0_B              263         0     2            525   \n",
       "1        15      AA0_B              263         0     2            526   \n",
       "2        15      AA0_B              264         0   225            527   \n",
       "3        15      AA0_B              264         0   225            528   \n",
       "4        15      AA0_B              265         0   225            529   \n",
       "...     ...        ...              ...       ...   ...            ...   \n",
       "43985   342        Z_S            21935         0  5996          43870   \n",
       "43986   342        Z_S            21936         0  5996          43871   \n",
       "43987   342        Z_S            21936         0  5996          43872   \n",
       "43988   342        Z_S            21937         0  5996          43873   \n",
       "43989   342        Z_S            21937         0  5996          43874   \n",
       "\n",
       "      phone_pure phone_pure_name  \n",
       "0              3              AA  \n",
       "1              3              AA  \n",
       "2              3              AA  \n",
       "3              3              AA  \n",
       "4              3              AA  \n",
       "...          ...             ...  \n",
       "43985         40               Z  \n",
       "43986         40               Z  \n",
       "43987         40               Z  \n",
       "43988         40               Z  \n",
       "43989         40               Z  \n",
       "\n",
       "[43990 rows x 8 columns]"
      ]
     },
     "execution_count": 4,
     "metadata": {},
     "output_type": "execute_result"
    }
   ],
   "source": [
    "df_phones_pure = pd.read_pickle('phones_pure_epa.pickle')\n",
    "df_phones_pure = df_phones_pure.reset_index()\n",
    "df_phones_pure"
   ]
  },
  {
   "cell_type": "code",
   "execution_count": 5,
   "metadata": {},
   "outputs": [
    {
     "data": {
      "text/plain": [
       "array(['phones', 'phones_names', 'align_transitions', 'target',\n",
       "       'target_base'], dtype=object)"
      ]
     },
     "execution_count": 5,
     "metadata": {},
     "output_type": "execute_result"
    }
   ],
   "source": [
    "df_target = pd.read_pickle('target_epa.pickle')\n",
    "df_target"
   ]
  },
  {
   "cell_type": "code",
   "execution_count": 6,
   "metadata": {},
   "outputs": [
    {
     "data": {
      "text/plain": [
       "[[array([1., 0., 0., ..., 0., 0., 0.]),\n",
       "  array([0., 1., 0., ..., 0., 0., 0.]),\n",
       "  array([0., 0., 1., ..., 0., 0., 0.]),\n",
       "  array([0., 0., 0., ..., 0., 0., 0.]),\n",
       "  array([0., 0., 0., ..., 0., 0., 0.]),\n",
       "  array([0., 0., 0., ..., 0., 0., 0.]),\n",
       "  array([0., 0., 0., ..., 0., 0., 0.]),\n",
       "  array([0., 0., 0., ..., 0., 0., 0.]),\n",
       "  array([0., 0., 0., ..., 0., 0., 0.]),\n",
       "  array([0., 0., 0., ..., 0., 0., 0.]),\n",
       "  array([0., 0., 0., ..., 0., 0., 0.]),\n",
       "  array([0., 0., 0., ..., 0., 0., 0.]),\n",
       "  array([0., 0., 0., ..., 0., 0., 0.]),\n",
       "  array([0., 0., 0., ..., 0., 0., 0.]),\n",
       "  array([0., 0., 0., ..., 0., 0., 0.]),\n",
       "  array([0., 0., 0., ..., 0., 0., 0.]),\n",
       "  array([0., 0., 0., ..., 0., 0., 0.]),\n",
       "  array([0., 0., 0., ..., 0., 0., 0.]),\n",
       "  array([0., 0., 0., ..., 0., 0., 0.]),\n",
       "  array([0., 0., 0., ..., 0., 0., 0.]),\n",
       "  array([0., 0., 0., ..., 0., 0., 0.]),\n",
       "  array([0., 0., 0., ..., 0., 0., 0.]),\n",
       "  array([0., 0., 0., ..., 0., 0., 0.]),\n",
       "  array([0., 0., 0., ..., 0., 0., 0.]),\n",
       "  array([0., 0., 0., ..., 0., 0., 0.]),\n",
       "  array([0., 0., 0., ..., 0., 0., 0.]),\n",
       "  array([0., 0., 0., ..., 0., 0., 0.]),\n",
       "  array([0., 0., 0., ..., 0., 0., 0.]),\n",
       "  array([0., 0., 0., ..., 0., 1., 1.]),\n",
       "  array([0., 0., 0., ..., 0., 0., 0.]),\n",
       "  array([0., 0., 0., ..., 0., 0., 0.]),\n",
       "  array([0., 0., 0., ..., 0., 0., 0.]),\n",
       "  array([0., 0., 0., ..., 0., 0., 0.]),\n",
       "  array([0., 0., 0., ..., 0., 0., 0.]),\n",
       "  array([0., 0., 0., ..., 0., 0., 0.]),\n",
       "  array([0., 0., 0., ..., 0., 0., 0.]),\n",
       "  array([0., 0., 0., ..., 0., 0., 0.]),\n",
       "  array([0., 0., 0., ..., 1., 0., 0.]),\n",
       "  array([0., 0., 0., ..., 0., 0., 0.]),\n",
       "  array([0., 0., 0., ..., 0., 0., 0.]),\n",
       "  array([0., 0., 0., ..., 0., 0., 0.])]]"
      ]
     },
     "execution_count": 6,
     "metadata": {},
     "output_type": "execute_result"
    }
   ],
   "source": [
    "matrix_gop_robust(df_phones_pure, 6024,1)"
   ]
  },
  {
   "cell_type": "code",
   "execution_count": 7,
   "metadata": {},
   "outputs": [
    {
     "data": {
      "text/html": [
       "<div>\n",
       "<style scoped>\n",
       "    .dataframe tbody tr th:only-of-type {\n",
       "        vertical-align: middle;\n",
       "    }\n",
       "\n",
       "    .dataframe tbody tr th {\n",
       "        vertical-align: top;\n",
       "    }\n",
       "\n",
       "    .dataframe thead th {\n",
       "        text-align: right;\n",
       "    }\n",
       "</style>\n",
       "<table border=\"1\" class=\"dataframe\">\n",
       "  <thead>\n",
       "    <tr style=\"text-align: right;\">\n",
       "      <th></th>\n",
       "      <th>phones</th>\n",
       "      <th>transitions</th>\n",
       "    </tr>\n",
       "  </thead>\n",
       "  <tbody>\n",
       "    <tr>\n",
       "      <th>spkr32_58</th>\n",
       "      <td>[SIL, DH_B, AH0_E, SIL, L_B, OW1_I, ER0_E, F_B...</td>\n",
       "      <td>[[2], [14148], [5944], [2, 1, 1, 1, 1, 1, 1, 1...</td>\n",
       "    </tr>\n",
       "  </tbody>\n",
       "</table>\n",
       "</div>"
      ],
      "text/plain": [
       "                                                      phones  \\\n",
       "spkr32_58  [SIL, DH_B, AH0_E, SIL, L_B, OW1_I, ER0_E, F_B...   \n",
       "\n",
       "                                                 transitions  \n",
       "spkr32_58  [[2], [14148], [5944], [2, 1, 1, 1, 1, 1, 1, 1...  "
      ]
     },
     "execution_count": 7,
     "metadata": {},
     "output_type": "execute_result"
    }
   ],
   "source": [
    "alignments = pd.read_pickle('alignments.pickle')\n",
    "alignments = pd.DataFrame.from_dict(alignments)\n",
    "pd.DataFrame(alignments.loc[:,'spkr32_58']).transpose()"
   ]
  },
  {
   "cell_type": "code",
   "execution_count": 8,
   "metadata": {
    "scrolled": false
   },
   "outputs": [],
   "source": [
    "gop = {}\n",
    "with ReadHelper('ark:loglikes.ark') as reader:\n",
    "    for key, loglikes in reader:\n",
    "        \n",
    "        loglikes = softmax(np.array(loglikes))\n",
    "        df_scores = pd.DataFrame(alignments.loc[:,key]).transpose()\n",
    "        df_scores['p'] = [loglikes]\n",
    "        gop[key] = gop_robust_with_matrix(df_scores, df_phones_pure, 6024, 1, [], [])\n",
    "\n",
    "with open('gop_epa.pickle', 'wb') as handle:\n",
    "    pickle.dump(gop, handle, protocol=pickle.HIGHEST_PROTOCOL)\n"
   ]
  },
  {
   "cell_type": "code",
   "execution_count": 9,
   "metadata": {},
   "outputs": [],
   "source": [
    "gop_epa = pd.read_pickle('gop_epa.pickle')\n"
   ]
  },
  {
   "cell_type": "code",
   "execution_count": 10,
   "metadata": {},
   "outputs": [],
   "source": [
    "gop_output_file = open('gop_epa.txt', 'w+')\n",
    "\n",
    "for logid, score in gop_epa.items():\n",
    "    score = score[0]\n",
    "    phones = score['phones_pure']\n",
    "    gop = score['gop']\n",
    "    \n",
    "    if len(phones) != len(gop):\n",
    "        raise Exception(\"Phones and gop list lengths do not match.\")\n",
    "    \n",
    "    gop_output_file.write(logid)\n",
    "    for i in range(len(phones)):\n",
    "        gop_output_file.write(' [ ' + phones[i] + ' ' + str(gop[i]) + ' ] ')\n",
    "    gop_output_file.write('\\n')\n"
   ]
  },
  {
   "cell_type": "code",
   "execution_count": null,
   "metadata": {},
   "outputs": [],
   "source": []
  }
 ],
 "metadata": {
  "kernelspec": {
   "display_name": "Python 3",
   "language": "python",
   "name": "python3"
  },
  "language_info": {
   "codemirror_mode": {
    "name": "ipython",
    "version": 3
   },
   "file_extension": ".py",
   "mimetype": "text/x-python",
   "name": "python",
   "nbconvert_exporter": "python",
   "pygments_lexer": "ipython3",
   "version": "3.7.9"
  }
 },
 "nbformat": 4,
 "nbformat_minor": 4
}
